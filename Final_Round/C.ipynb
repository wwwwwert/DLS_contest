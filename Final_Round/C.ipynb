{
 "cells": [
  {
   "cell_type": "code",
   "execution_count": 1,
   "metadata": {},
   "outputs": [],
   "source": [
    "%load_ext autoreload\n",
    "%autoreload 2\n",
    "\n",
    "%matplotlib inline\n",
    "import matplotlib.pyplot as plt\n",
    "import seaborn as sns\n",
    "\n",
    "%config InlineBackend.figure_format = 'retina'\n",
    "plt.rcParams['figure.figsize'] = 8, 5\n",
    "plt.rcParams['font.size'] = 12\n",
    "plt.rcParams['savefig.format'] = 'pdf'\n",
    "sns.set_style('darkgrid')"
   ]
  },
  {
   "cell_type": "code",
   "execution_count": 2,
   "metadata": {},
   "outputs": [],
   "source": [
    "import numpy as np\n",
    "import pandas as pd\n",
    "from tqdm import tqdm\n",
    "from scipy import stats"
   ]
  },
  {
   "cell_type": "markdown",
   "metadata": {},
   "source": [
    "Определим фильтр и функцию для его применения."
   ]
  },
  {
   "cell_type": "code",
   "execution_count": 11,
   "metadata": {},
   "outputs": [],
   "source": [
    "def apply_filter(image, filter):\n",
    "    res = np.array([\n",
    "        [0, 0],\n",
    "        [0, 0]\n",
    "    ], dtype='float32')\n",
    "    for i in [0, 1]:\n",
    "        for j in [0, 1]:\n",
    "            res[i, j] = np.sum(image[i:i + 2, j:j + 2] * filter)\n",
    "    return res\n",
    "\n",
    "filter = np.array([\n",
    "    [1, -1],\n",
    "    [2, 1],\n",
    "], dtype='float32')"
   ]
  },
  {
   "cell_type": "markdown",
   "metadata": {},
   "source": [
    "Нагенерируем кучу картинок, применим свёртку, получим вектора."
   ]
  },
  {
   "cell_type": "code",
   "execution_count": 86,
   "metadata": {},
   "outputs": [
    {
     "name": "stderr",
     "output_type": "stream",
     "text": [
      "100%|██████████| 200000/200000 [00:23<00:00, 8612.96it/s]\n"
     ]
    }
   ],
   "source": [
    "reses = []\n",
    "for i in tqdm(range(200000)):\n",
    "    img = np.zeros(shape=[3, 3], dtype='float32')\n",
    "    for i in range(3):\n",
    "        for j in range(3):\n",
    "            img[i, j] = stats.norm.rvs(loc=0, scale=1)\n",
    "    res = apply_filter(img, filter).reshape([-1])\n",
    "    reses.append(res)\n",
    "reses = np.array(reses)"
   ]
  },
  {
   "cell_type": "code",
   "execution_count": 88,
   "metadata": {},
   "outputs": [
    {
     "data": {
      "text/plain": [
       "(200000, 4)"
      ]
     },
     "execution_count": 88,
     "metadata": {},
     "output_type": "execute_result"
    }
   ],
   "source": [
    "reses.shape"
   ]
  },
  {
   "cell_type": "markdown",
   "metadata": {},
   "source": [
    "Посчитаем матрицу ковариации и найдём сумму её элементов. Без понятия, что это и как корректно считать, поэтому два способа."
   ]
  },
  {
   "cell_type": "code",
   "execution_count": 89,
   "metadata": {},
   "outputs": [
    {
     "data": {
      "text/plain": [
       "34.19643897733931"
      ]
     },
     "execution_count": 89,
     "metadata": {},
     "output_type": "execute_result"
    }
   ],
   "source": [
    "np.cov(reses, rowvar=False, ddof=1).sum()"
   ]
  },
  {
   "cell_type": "code",
   "execution_count": 90,
   "metadata": {},
   "outputs": [
    {
     "data": {
      "text/plain": [
       "array([[ 7.02421988,  1.03199283,  0.99369191,  1.02400272],\n",
       "       [ 1.03199283,  7.02904535, -2.00978998,  1.02881578],\n",
       "       [ 0.99369191, -2.00978998,  7.01792209,  0.98931481],\n",
       "       [ 1.02400272,  1.02881578,  0.98931481,  7.00911005]])"
      ]
     },
     "execution_count": 90,
     "metadata": {},
     "output_type": "execute_result"
    }
   ],
   "source": [
    "z = np.vstack((reses, reses))\n",
    "c = np.cov(z.T)\n",
    "c"
   ]
  },
  {
   "cell_type": "code",
   "execution_count": 91,
   "metadata": {},
   "outputs": [
    {
     "data": {
      "text/plain": [
       "34.19635348602816"
      ]
     },
     "execution_count": 91,
     "metadata": {},
     "output_type": "execute_result"
    }
   ],
   "source": [
    "c.sum()"
   ]
  },
  {
   "cell_type": "markdown",
   "metadata": {},
   "source": [
    "Получаем что-то около 34, все значения матрицы ковариации почти целочисленные, что соответствует условию. "
   ]
  }
 ],
 "metadata": {
  "kernelspec": {
   "display_name": "Python 3",
   "language": "python",
   "name": "python3"
  },
  "language_info": {
   "codemirror_mode": {
    "name": "ipython",
    "version": 3
   },
   "file_extension": ".py",
   "mimetype": "text/x-python",
   "name": "python",
   "nbconvert_exporter": "python",
   "pygments_lexer": "ipython3",
   "version": "3.10.7"
  }
 },
 "nbformat": 4,
 "nbformat_minor": 2
}
