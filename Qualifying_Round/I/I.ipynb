{
 "cells": [
  {
   "cell_type": "code",
   "execution_count": 2,
   "metadata": {},
   "outputs": [],
   "source": [
    "import pandas as pd"
   ]
  },
  {
   "cell_type": "code",
   "execution_count": 3,
   "metadata": {},
   "outputs": [
    {
     "name": "stdout",
     "output_type": "stream",
     "text": [
      "(1226, 14)\n"
     ]
    },
    {
     "data": {
      "text/html": [
       "<div>\n",
       "<style scoped>\n",
       "    .dataframe tbody tr th:only-of-type {\n",
       "        vertical-align: middle;\n",
       "    }\n",
       "\n",
       "    .dataframe tbody tr th {\n",
       "        vertical-align: top;\n",
       "    }\n",
       "\n",
       "    .dataframe thead th {\n",
       "        text-align: right;\n",
       "    }\n",
       "</style>\n",
       "<table border=\"1\" class=\"dataframe\">\n",
       "  <thead>\n",
       "    <tr style=\"text-align: right;\">\n",
       "      <th></th>\n",
       "      <th>author</th>\n",
       "      <th>author_type</th>\n",
       "      <th>location</th>\n",
       "      <th>deal_type</th>\n",
       "      <th>accommodation_type</th>\n",
       "      <th>floor</th>\n",
       "      <th>floors_count</th>\n",
       "      <th>rooms_count</th>\n",
       "      <th>total_meters</th>\n",
       "      <th>district</th>\n",
       "      <th>street</th>\n",
       "      <th>underground</th>\n",
       "      <th>residential_complex</th>\n",
       "      <th>price</th>\n",
       "    </tr>\n",
       "  </thead>\n",
       "  <tbody>\n",
       "    <tr>\n",
       "      <th>0</th>\n",
       "      <td>BARNES International Realty</td>\n",
       "      <td>real_estate_agent</td>\n",
       "      <td>Москва</td>\n",
       "      <td>sale</td>\n",
       "      <td>flat</td>\n",
       "      <td>3</td>\n",
       "      <td>7</td>\n",
       "      <td>4</td>\n",
       "      <td>118.00</td>\n",
       "      <td>Таганский</td>\n",
       "      <td>Серебрянический переулок</td>\n",
       "      <td>Китай-город</td>\n",
       "      <td>Титул на Серебрянической</td>\n",
       "      <td>104.500000</td>\n",
       "    </tr>\n",
       "    <tr>\n",
       "      <th>1</th>\n",
       "      <td>Гранит Инвест</td>\n",
       "      <td>real_estate_agent</td>\n",
       "      <td>Санкт-Петербург</td>\n",
       "      <td>sale</td>\n",
       "      <td>flat</td>\n",
       "      <td>6</td>\n",
       "      <td>14</td>\n",
       "      <td>2</td>\n",
       "      <td>55.90</td>\n",
       "      <td>Василеостровский</td>\n",
       "      <td>набережная Реки Смоленки</td>\n",
       "      <td>Приморская</td>\n",
       "      <td>Айно</td>\n",
       "      <td>15.204800</td>\n",
       "    </tr>\n",
       "    <tr>\n",
       "      <th>2</th>\n",
       "      <td>А101</td>\n",
       "      <td>developer</td>\n",
       "      <td>Москва</td>\n",
       "      <td>sale</td>\n",
       "      <td>flat</td>\n",
       "      <td>15</td>\n",
       "      <td>18</td>\n",
       "      <td>3</td>\n",
       "      <td>52.50</td>\n",
       "      <td>NaN</td>\n",
       "      <td>NaN</td>\n",
       "      <td>Прокшино</td>\n",
       "      <td>Прокшино ЖК</td>\n",
       "      <td>19.557878</td>\n",
       "    </tr>\n",
       "    <tr>\n",
       "      <th>3</th>\n",
       "      <td>Арсенал-Недвижимость</td>\n",
       "      <td>developer</td>\n",
       "      <td>Санкт-Петербург</td>\n",
       "      <td>sale</td>\n",
       "      <td>flat</td>\n",
       "      <td>2</td>\n",
       "      <td>12</td>\n",
       "      <td>1</td>\n",
       "      <td>53.48</td>\n",
       "      <td>Приморский</td>\n",
       "      <td>проспект Авиаконструкторов</td>\n",
       "      <td>Комендантский проспект</td>\n",
       "      <td>Modum</td>\n",
       "      <td>12.033000</td>\n",
       "    </tr>\n",
       "    <tr>\n",
       "      <th>4</th>\n",
       "      <td>Contact Real Estate</td>\n",
       "      <td>real_estate_agent</td>\n",
       "      <td>Москва</td>\n",
       "      <td>sale</td>\n",
       "      <td>flat</td>\n",
       "      <td>14</td>\n",
       "      <td>16</td>\n",
       "      <td>4</td>\n",
       "      <td>136.50</td>\n",
       "      <td>Пресненский</td>\n",
       "      <td>Костикова</td>\n",
       "      <td>Улица 1905 года</td>\n",
       "      <td>Lucky</td>\n",
       "      <td>175.000000</td>\n",
       "    </tr>\n",
       "  </tbody>\n",
       "</table>\n",
       "</div>"
      ],
      "text/plain": [
       "                        author        author_type         location deal_type  \\\n",
       "0  BARNES International Realty  real_estate_agent           Москва      sale   \n",
       "1                Гранит Инвест  real_estate_agent  Санкт-Петербург      sale   \n",
       "2                         А101          developer           Москва      sale   \n",
       "3         Арсенал-Недвижимость          developer  Санкт-Петербург      sale   \n",
       "4          Contact Real Estate  real_estate_agent           Москва      sale   \n",
       "\n",
       "  accommodation_type  floor  floors_count  rooms_count  total_meters  \\\n",
       "0               flat      3             7            4        118.00   \n",
       "1               flat      6            14            2         55.90   \n",
       "2               flat     15            18            3         52.50   \n",
       "3               flat      2            12            1         53.48   \n",
       "4               flat     14            16            4        136.50   \n",
       "\n",
       "           district                      street             underground  \\\n",
       "0         Таганский    Серебрянический переулок             Китай-город   \n",
       "1  Василеостровский    набережная Реки Смоленки              Приморская   \n",
       "2               NaN                         NaN                Прокшино   \n",
       "3        Приморский  проспект Авиаконструкторов  Комендантский проспект   \n",
       "4       Пресненский                   Костикова         Улица 1905 года   \n",
       "\n",
       "        residential_complex       price  \n",
       "0  Титул на Серебрянической  104.500000  \n",
       "1                      Айно   15.204800  \n",
       "2               Прокшино ЖК   19.557878  \n",
       "3                     Modum   12.033000  \n",
       "4                     Lucky  175.000000  "
      ]
     },
     "execution_count": 3,
     "metadata": {},
     "output_type": "execute_result"
    }
   ],
   "source": [
    "data = pd.read_csv('house_prices/house_price_train.csv')\n",
    "data = data.drop(columns=['id'])\n",
    "print(data.shape)\n",
    "data.head()"
   ]
  },
  {
   "cell_type": "code",
   "execution_count": 4,
   "metadata": {},
   "outputs": [],
   "source": [
    "from sklearn.compose import ColumnTransformer\n",
    "from sklearn.preprocessing import OneHotEncoder\n",
    "from sklearn.preprocessing import StandardScaler\n",
    "\n",
    "categorical = ['author', 'author_type', 'location', 'deal_type', 'accommodation_type', 'district', 'street', 'underground', 'residential_complex']\n",
    "numeric = ['floor', 'floors_count', 'rooms_count', 'total_meters']\n",
    "# other = ['price']\n",
    "\n",
    "column_transformer = ColumnTransformer([\n",
    "    ('ohe', OneHotEncoder(handle_unknown='ignore'), categorical),\n",
    "    ('scaling', StandardScaler(), numeric),\n",
    "    # ('other',  'passthrough', other)\n",
    "])\n",
    "\n",
    "prices = data.iloc[:, [-1]].to_numpy()\n",
    "data = column_transformer.fit_transform(data.iloc[:, :-1]).toarray()"
   ]
  },
  {
   "cell_type": "code",
   "execution_count": 6,
   "metadata": {},
   "outputs": [],
   "source": [
    "from sklearn.model_selection import train_test_split\n",
    "\n",
    "X_train, X_test, y_train, y_test = train_test_split(data, prices, train_size=0.8)"
   ]
  },
  {
   "cell_type": "code",
   "execution_count": 7,
   "metadata": {},
   "outputs": [],
   "source": [
    "from sklearn.metrics import mean_absolute_error\n",
    "\n",
    "def calc_score(true, pred):\n",
    "    return (60 - mean_absolute_error(true, pred)) / 3.75"
   ]
  },
  {
   "cell_type": "code",
   "execution_count": 8,
   "metadata": {},
   "outputs": [],
   "source": [
    "from sklearn.linear_model import Ridge, Lasso\n",
    "from sklearn.ensemble import RandomForestRegressor\n",
    "from catboost import CatBoostRegressor"
   ]
  },
  {
   "cell_type": "code",
   "execution_count": 9,
   "metadata": {},
   "outputs": [
    {
     "data": {
      "text/plain": [
       "7.735807900332273"
      ]
     },
     "execution_count": 9,
     "metadata": {},
     "output_type": "execute_result"
    }
   ],
   "source": [
    "model = Ridge()\n",
    "model.fit(X_train, y_train)\n",
    "pred = model.predict(X_test)\n",
    "calc_score(y_test, pred)"
   ]
  },
  {
   "cell_type": "code",
   "execution_count": 10,
   "metadata": {},
   "outputs": [
    {
     "name": "stderr",
     "output_type": "stream",
     "text": [
      "/var/folders/lc/3f42yfz94hn51hj2xsvyc6h00000gn/T/ipykernel_15767/2198408183.py:2: DataConversionWarning: A column-vector y was passed when a 1d array was expected. Please change the shape of y to (n_samples,), for example using ravel().\n",
      "  model.fit(X_train, y_train)\n"
     ]
    },
    {
     "data": {
      "text/plain": [
       "9.855100995862328"
      ]
     },
     "execution_count": 10,
     "metadata": {},
     "output_type": "execute_result"
    }
   ],
   "source": [
    "model = RandomForestRegressor()\n",
    "model.fit(X_train, y_train)\n",
    "pred = model.predict(X_test)\n",
    "calc_score(y_test, pred)"
   ]
  },
  {
   "cell_type": "code",
   "execution_count": 11,
   "metadata": {},
   "outputs": [
    {
     "data": {
      "text/plain": [
       "7.288733249764073"
      ]
     },
     "execution_count": 11,
     "metadata": {},
     "output_type": "execute_result"
    }
   ],
   "source": [
    "model = Lasso()\n",
    "model.fit(X_train, y_train)\n",
    "pred = model.predict(X_test)\n",
    "calc_score(y_test, pred)"
   ]
  },
  {
   "cell_type": "code",
   "execution_count": 12,
   "metadata": {},
   "outputs": [
    {
     "name": "stdout",
     "output_type": "stream",
     "text": [
      "Learning rate set to 0.05076\n",
      "0:\tlearn: 73.6757838\ttest: 70.0004842\tbest: 70.0004842 (0)\ttotal: 59.2ms\tremaining: 59.2s\n",
      "100:\tlearn: 27.4170186\ttest: 31.4503100\tbest: 31.4466499 (99)\ttotal: 202ms\tremaining: 1.79s\n",
      "200:\tlearn: 20.6357280\ttest: 27.9555226\tbest: 27.9555226 (200)\ttotal: 346ms\tremaining: 1.38s\n",
      "300:\tlearn: 17.7761399\ttest: 26.9370922\tbest: 26.9370922 (300)\ttotal: 491ms\tremaining: 1.14s\n",
      "400:\tlearn: 15.9145738\ttest: 26.2793065\tbest: 26.2793065 (400)\ttotal: 636ms\tremaining: 950ms\n",
      "500:\tlearn: 14.6403040\ttest: 25.7060604\tbest: 25.7060604 (500)\ttotal: 780ms\tremaining: 777ms\n",
      "600:\tlearn: 13.4863763\ttest: 25.3742112\tbest: 25.3688193 (598)\ttotal: 923ms\tremaining: 613ms\n",
      "700:\tlearn: 12.1791147\ttest: 25.0798038\tbest: 25.0685010 (695)\ttotal: 1.07s\tremaining: 455ms\n",
      "800:\tlearn: 11.3548646\ttest: 24.7316241\tbest: 24.7316241 (800)\ttotal: 1.21s\tremaining: 301ms\n",
      "900:\tlearn: 10.7567318\ttest: 24.5028530\tbest: 24.5028530 (900)\ttotal: 1.36s\tremaining: 149ms\n",
      "999:\tlearn: 9.9535414\ttest: 24.2944007\tbest: 24.2923329 (996)\ttotal: 1.5s\tremaining: 0us\n",
      "\n",
      "bestTest = 24.29233288\n",
      "bestIteration = 996\n",
      "\n",
      "Shrink model to first 997 iterations.\n"
     ]
    },
    {
     "data": {
      "text/plain": [
       "9.522044265386"
      ]
     },
     "execution_count": 12,
     "metadata": {},
     "output_type": "execute_result"
    }
   ],
   "source": [
    "features = {\n",
    "    'iterations': 1000,\n",
    "    'random_seed': 0,\n",
    "    'eval_metric': 'MAE',\n",
    "    'verbose': 100\n",
    "}\n",
    "model = CatBoostRegressor(\n",
    "    **features\n",
    ")\n",
    "model.fit(X_train, y_train, eval_set=(X_test, y_test))\n",
    "pred = model.predict(X_test)\n",
    "calc_score(y_test, pred)"
   ]
  },
  {
   "cell_type": "code",
   "execution_count": 13,
   "metadata": {},
   "outputs": [
    {
     "name": "stdout",
     "output_type": "stream",
     "text": [
      "(303, 13)\n"
     ]
    },
    {
     "data": {
      "text/html": [
       "<div>\n",
       "<style scoped>\n",
       "    .dataframe tbody tr th:only-of-type {\n",
       "        vertical-align: middle;\n",
       "    }\n",
       "\n",
       "    .dataframe tbody tr th {\n",
       "        vertical-align: top;\n",
       "    }\n",
       "\n",
       "    .dataframe thead th {\n",
       "        text-align: right;\n",
       "    }\n",
       "</style>\n",
       "<table border=\"1\" class=\"dataframe\">\n",
       "  <thead>\n",
       "    <tr style=\"text-align: right;\">\n",
       "      <th></th>\n",
       "      <th>author</th>\n",
       "      <th>author_type</th>\n",
       "      <th>location</th>\n",
       "      <th>deal_type</th>\n",
       "      <th>accommodation_type</th>\n",
       "      <th>floor</th>\n",
       "      <th>floors_count</th>\n",
       "      <th>rooms_count</th>\n",
       "      <th>total_meters</th>\n",
       "      <th>district</th>\n",
       "      <th>street</th>\n",
       "      <th>underground</th>\n",
       "      <th>residential_complex</th>\n",
       "    </tr>\n",
       "  </thead>\n",
       "  <tbody>\n",
       "    <tr>\n",
       "      <th>0</th>\n",
       "      <td>ГлавстройСПб</td>\n",
       "      <td>developer</td>\n",
       "      <td>Санкт-Петербург</td>\n",
       "      <td>sale</td>\n",
       "      <td>flat</td>\n",
       "      <td>19</td>\n",
       "      <td>24</td>\n",
       "      <td>1</td>\n",
       "      <td>34.5</td>\n",
       "      <td>Приморский</td>\n",
       "      <td>Ивинская</td>\n",
       "      <td>Комендантский проспект</td>\n",
       "      <td>Юнтолово</td>\n",
       "    </tr>\n",
       "    <tr>\n",
       "      <th>1</th>\n",
       "      <td>Основа</td>\n",
       "      <td>developer</td>\n",
       "      <td>Москва</td>\n",
       "      <td>sale</td>\n",
       "      <td>flat</td>\n",
       "      <td>11</td>\n",
       "      <td>13</td>\n",
       "      <td>2</td>\n",
       "      <td>71.4</td>\n",
       "      <td>Замоскворечье</td>\n",
       "      <td>Большой Строченовский переулок</td>\n",
       "      <td>Павелецкая</td>\n",
       "      <td>Резиденции Замоскворечье</td>\n",
       "    </tr>\n",
       "    <tr>\n",
       "      <th>2</th>\n",
       "      <td>ID 112819123</td>\n",
       "      <td>developer</td>\n",
       "      <td>Москва</td>\n",
       "      <td>sale</td>\n",
       "      <td>flat</td>\n",
       "      <td>-1</td>\n",
       "      <td>-1</td>\n",
       "      <td>-1</td>\n",
       "      <td>202.0</td>\n",
       "      <td>Щукино</td>\n",
       "      <td>проезд 4-й Красногорский</td>\n",
       "      <td>Стрешнево</td>\n",
       "      <td>Moments</td>\n",
       "    </tr>\n",
       "    <tr>\n",
       "      <th>3</th>\n",
       "      <td>Сенатор</td>\n",
       "      <td>developer</td>\n",
       "      <td>Санкт-Петербург</td>\n",
       "      <td>sale</td>\n",
       "      <td>flat</td>\n",
       "      <td>3</td>\n",
       "      <td>12</td>\n",
       "      <td>1</td>\n",
       "      <td>47.4</td>\n",
       "      <td>Курортный</td>\n",
       "      <td>Приморское шоссе</td>\n",
       "      <td>NaN</td>\n",
       "      <td>МФК Морская ривьера</td>\n",
       "    </tr>\n",
       "    <tr>\n",
       "      <th>4</th>\n",
       "      <td>MR Group</td>\n",
       "      <td>developer</td>\n",
       "      <td>Москва</td>\n",
       "      <td>sale</td>\n",
       "      <td>flat</td>\n",
       "      <td>3</td>\n",
       "      <td>36</td>\n",
       "      <td>1</td>\n",
       "      <td>40.8</td>\n",
       "      <td>Беговой</td>\n",
       "      <td>Ленинградский проспект</td>\n",
       "      <td>Белорусская</td>\n",
       "      <td>Slava</td>\n",
       "    </tr>\n",
       "  </tbody>\n",
       "</table>\n",
       "</div>"
      ],
      "text/plain": [
       "         author author_type         location deal_type accommodation_type  \\\n",
       "0  ГлавстройСПб   developer  Санкт-Петербург      sale               flat   \n",
       "1        Основа   developer           Москва      sale               flat   \n",
       "2  ID 112819123   developer           Москва      sale               flat   \n",
       "3       Сенатор   developer  Санкт-Петербург      sale               flat   \n",
       "4      MR Group   developer           Москва      sale               flat   \n",
       "\n",
       "   floor  floors_count  rooms_count  total_meters       district  \\\n",
       "0     19            24            1          34.5     Приморский   \n",
       "1     11            13            2          71.4  Замоскворечье   \n",
       "2     -1            -1           -1         202.0         Щукино   \n",
       "3      3            12            1          47.4      Курортный   \n",
       "4      3            36            1          40.8        Беговой   \n",
       "\n",
       "                           street             underground  \\\n",
       "0                        Ивинская  Комендантский проспект   \n",
       "1  Большой Строченовский переулок              Павелецкая   \n",
       "2        проезд 4-й Красногорский               Стрешнево   \n",
       "3                Приморское шоссе                     NaN   \n",
       "4          Ленинградский проспект             Белорусская   \n",
       "\n",
       "        residential_complex  \n",
       "0                  Юнтолово  \n",
       "1  Резиденции Замоскворечье  \n",
       "2                   Moments  \n",
       "3       МФК Морская ривьера  \n",
       "4                     Slava  "
      ]
     },
     "execution_count": 13,
     "metadata": {},
     "output_type": "execute_result"
    }
   ],
   "source": [
    "test = pd.read_csv('house_prices/house_price_test.csv')\n",
    "ids = test['id']\n",
    "test = test.drop(columns=['id'])\n",
    "print(test.shape)\n",
    "test.head()"
   ]
  },
  {
   "cell_type": "code",
   "execution_count": 14,
   "metadata": {},
   "outputs": [],
   "source": [
    "test = column_transformer.transform(test)"
   ]
  },
  {
   "cell_type": "code",
   "execution_count": 15,
   "metadata": {},
   "outputs": [],
   "source": [
    "pred = model.predict(test.toarray())\n",
    "res = pd.DataFrame({\n",
    "    'id': ids,\n",
    "    'price': pred\n",
    "})\n",
    "res.to_csv('price_pred.csv' ,index=False)"
   ]
  }
 ],
 "metadata": {
  "kernelspec": {
   "display_name": "Python 3",
   "language": "python",
   "name": "python3"
  },
  "language_info": {
   "codemirror_mode": {
    "name": "ipython",
    "version": 3
   },
   "file_extension": ".py",
   "mimetype": "text/x-python",
   "name": "python",
   "nbconvert_exporter": "python",
   "pygments_lexer": "ipython3",
   "version": "3.10.7"
  }
 },
 "nbformat": 4,
 "nbformat_minor": 2
}
