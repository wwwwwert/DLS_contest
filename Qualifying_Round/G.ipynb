{
 "cells": [
  {
   "cell_type": "code",
   "execution_count": 49,
   "metadata": {},
   "outputs": [],
   "source": [
    "import numpy as np"
   ]
  },
  {
   "cell_type": "code",
   "execution_count": 50,
   "metadata": {},
   "outputs": [],
   "source": [
    "def apply_filter(image, filter):\n",
    "    res = np.array([\n",
    "        [0, 0],\n",
    "        [0, 0]\n",
    "    ])\n",
    "    for i in [0, 1]:\n",
    "        for j in [0, 1]:\n",
    "            res[i, j] = np.sum(image[i:i + 2, j:j + 2] * filter)\n",
    "    return res\n",
    "\n",
    "def apply_max_pool(image):\n",
    "    return np.amax(image)"
   ]
  },
  {
   "cell_type": "code",
   "execution_count": 51,
   "metadata": {},
   "outputs": [],
   "source": [
    "images = [\n",
    "    np.array([[1, 2, 3], [3, 4, 1], [2, 1, 3]]),\n",
    "    np.array([[1, 1, 2], [2, 6, 1], [0, 1, 2]]),\n",
    "    np.array([[2, 2, 1], [2, 4, 3], [1, 2, 4]]),\n",
    "]\n",
    "\n",
    "filters = [\n",
    "    np.array([[1, 1], [1, 1]]),\n",
    "    np.array([[1, 0], [0, 1]]),\n",
    "    np.array([[0, 1], [0, 1]]),\n",
    "    np.array([[0, 1], [1, 0]]),\n",
    "]\n"
   ]
  },
  {
   "cell_type": "code",
   "execution_count": 52,
   "metadata": {},
   "outputs": [
    {
     "data": {
      "text/plain": [
       "array([1, 2, 1])"
      ]
     },
     "metadata": {},
     "output_type": "display_data"
    },
    {
     "data": {
      "text/plain": [
       "array([1, 2, 1])"
      ]
     },
     "metadata": {},
     "output_type": "display_data"
    },
    {
     "data": {
      "text/plain": [
       "array([1, 2, 1])"
      ]
     },
     "metadata": {},
     "output_type": "display_data"
    },
    {
     "data": {
      "text/plain": [
       "array([1, 1, 2])"
      ]
     },
     "metadata": {},
     "output_type": "display_data"
    }
   ],
   "source": [
    "classes = np.array([1, 2, 1])\n",
    "for filter in filters:\n",
    "    results = []\n",
    "    for image in images:\n",
    "        filtered = apply_filter(image, filter)\n",
    "        pooled = apply_max_pool(filtered)\n",
    "        results.append(pooled)\n",
    "\n",
    "    results = np.array(results)\n",
    "    ids = results.argsort()\n",
    "    display(classes[ids])"
   ]
  },
  {
   "cell_type": "markdown",
   "metadata": {},
   "source": [
    "Линейно разделимый случай только при применении последнего фильтра."
   ]
  },
  {
   "cell_type": "markdown",
   "metadata": {},
   "source": []
  }
 ],
 "metadata": {
  "kernelspec": {
   "display_name": "Python 3",
   "language": "python",
   "name": "python3"
  },
  "language_info": {
   "codemirror_mode": {
    "name": "ipython",
    "version": 3
   },
   "file_extension": ".py",
   "mimetype": "text/x-python",
   "name": "python",
   "nbconvert_exporter": "python",
   "pygments_lexer": "ipython3",
   "version": "3.10.7"
  }
 },
 "nbformat": 4,
 "nbformat_minor": 2
}
